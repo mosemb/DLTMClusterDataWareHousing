{
 "cells": [
  {
   "cell_type": "code",
   "execution_count": 22,
   "metadata": {},
   "outputs": [
    {
     "name": "stdout",
     "output_type": "stream",
     "text": [
      "Overwriting sparktest.py\n"
     ]
    }
   ],
   "source": [
    "%%writefile sparktest.py\n",
    "from pyspark.sql import SparkSession\n",
    "from pyspark.sql import Window\n",
    "\n",
    "# Initialize SparkSession\n",
    "spark = SparkSession \\\n",
    "    .builder \\\n",
    "    .appName(\"Python Spark DataFrame from Postgres Table\") \\\n",
    "    .getOrCreate()\n",
    "\n",
    "# Load the bookings table into a DataFrame\n",
    "jdbcDF = spark.read \\\n",
    "    .format(\"jdbc\") \\\n",
    "    .option(\"url\", \"jdbc:postgresql://master:5432/projectdw\") \\\n",
    "    .option(\"dbtable\", \"\") \\\n",
    "    .option(\"user\", \"client_hiring_dt\") \\\n",
    "    .option(\"password\", \"\") \\\n",
    "    .load()\n",
    "\n",
    "# Print the schema of the DataFrame\n",
    "jdbcDF.printSchema()\n",
    "\n",
    "# Print the number of rows\n",
    "print jdbcDF.count()\n",
    "\n",
    "# Stop the Spark Session\n",
    "spark.stop()"
   ]
  },
  {
   "cell_type": "code",
   "execution_count": null,
   "metadata": {},
   "outputs": [],
   "source": []
  },
  {
   "cell_type": "code",
   "execution_count": null,
   "metadata": {},
   "outputs": [],
   "source": []
  },
  {
   "cell_type": "code",
   "execution_count": null,
   "metadata": {},
   "outputs": [],
   "source": []
  }
 ],
 "metadata": {
  "kernelspec": {
   "display_name": "Python 3",
   "language": "python",
   "name": "python3"
  },
  "language_info": {
   "codemirror_mode": {
    "name": "ipython",
    "version": 3
   },
   "file_extension": ".py",
   "mimetype": "text/x-python",
   "name": "python",
   "nbconvert_exporter": "python",
   "pygments_lexer": "ipython3",
   "version": "3.7.6"
  }
 },
 "nbformat": 4,
 "nbformat_minor": 4
}
